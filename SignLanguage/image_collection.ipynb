{
 "cells": [
  {
   "cell_type": "code",
   "execution_count": null,
   "id": "7524dd63",
   "metadata": {},
   "outputs": [],
   "source": [
    "import cv2\n",
    "import os \n",
    "import time \n",
    "import uuid"
   ]
  },
  {
   "cell_type": "code",
   "execution_count": null,
   "id": "a554c79f",
   "metadata": {},
   "outputs": [],
   "source": []
  },
  {
   "cell_type": "code",
   "execution_count": null,
   "id": "0fb2ea52",
   "metadata": {},
   "outputs": [],
   "source": [
    "labels = {\n",
    "    '1': 'hello',\n",
    "    '2': 'i_love_you',\n",
    "    '3': 'thank_you',\n",
    "    '4': 'yes',\n",
    "    '5': 'no'\n",
    "}"
   ]
  },
  {
   "cell_type": "code",
   "execution_count": null,
   "id": "56a367c9",
   "metadata": {},
   "outputs": [],
   "source": [
    "save_dir = \"sign_videos\"\n",
    "os.makedirs(save_dir, exist_ok=True)\n"
   ]
  },
  {
   "cell_type": "code",
   "execution_count": null,
   "id": "b6804b29",
   "metadata": {},
   "outputs": [],
   "source": [
    "for label in labels.values():\n",
    "    os.makedirs(os.path.join(save_dir, label), exist_ok=True)"
   ]
  },
  {
   "cell_type": "code",
   "execution_count": null,
   "id": "500ac6fe",
   "metadata": {},
   "outputs": [],
   "source": [
    "cap = cv2.VideoCapture(0)"
   ]
  },
  {
   "cell_type": "code",
   "execution_count": null,
   "id": "b02101de",
   "metadata": {},
   "outputs": [],
   "source": [
    "\n",
    "recording = False\n",
    "frames = []\n",
    "max_frames = 60  \n",
    "\n",
    "current_label = \"\"\n",
    "\n",
    "print(\"Press keys 1-5 to record:\")\n",
    "print(\"1: Hello | 2: I love you | 3: Thank you | 4: Yes | 5: No\")\n",
    "print(\"Press 'q' to quit.\")"
   ]
  },
  {
   "cell_type": "code",
   "execution_count": null,
   "id": "8466e070",
   "metadata": {},
   "outputs": [],
   "source": [
    "\n",
    "while True:\n",
    "    ret, frame = cap.read()\n",
    "    if not ret:\n",
    "        break\n",
    "\n",
    "    # Show instructions on screen\n",
    "    cv2.putText(frame, \"Press 1-5 to record gestures\", (10, 30),\n",
    "                cv2.FONT_HERSHEY_SIMPLEX, 0.7, (0, 255, 0), 2)\n",
    "\n",
    "    if recording:\n",
    "        frames.append(frame.copy())\n",
    "        cv2.putText(frame, f\"Recording {current_label}: {len(frames)}/{max_frames}\", (10, 60),\n",
    "                    cv2.FONT_HERSHEY_SIMPLEX, 0.7, (0, 0, 255), 2)\n",
    "\n",
    "        if len(frames) >= max_frames:\n",
    "            # Save video\n",
    "            timestamp = int(time.time())\n",
    "            filename = f\"{current_label}_{timestamp}.avi\"\n",
    "            path = os.path.join(save_dir, current_label, filename)\n",
    "\n",
    "            # Define codec and save video\n",
    "            height, width, _ = frames[0].shape\n",
    "            out = cv2.VideoWriter(path, cv2.VideoWriter_fourcc(*'XVID'), 20, (width, height))\n",
    "            for f in frames:\n",
    "                out.write(f)\n",
    "            out.release()\n",
    "\n",
    "            print(f\"Saved video: {path}\")\n",
    "            recording = False\n",
    "            frames = []\n",
    "\n",
    "    cv2.imshow(\"Sign Recorder\", frame)\n",
    "    key = cv2.waitKey(1) & 0xFF\n",
    "\n",
    "    if key == ord('q'):\n",
    "        break\n",
    "\n",
    "    elif chr(key) in labels:\n",
    "        current_label = labels[chr(key)]\n",
    "        print(f\"Started recording for: {current_label}\")\n",
    "        frames = []\n",
    "        recording = True\n",
    "\n",
    "cap.release()\n",
    "cv2.destroyAllWindows()\n"
   ]
  }
 ],
 "metadata": {
  "kernelspec": {
   "display_name": "Python 3",
   "language": "python",
   "name": "python3"
  },
  "language_info": {
   "codemirror_mode": {
    "name": "ipython",
    "version": 3
   },
   "file_extension": ".py",
   "mimetype": "text/x-python",
   "name": "python",
   "nbconvert_exporter": "python",
   "pygments_lexer": "ipython3",
   "version": "3.11.2"
  }
 },
 "nbformat": 4,
 "nbformat_minor": 5
}
