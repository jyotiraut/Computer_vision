{
 "cells": [
  {
   "cell_type": "code",
   "execution_count": 1,
   "id": "7524dd63",
   "metadata": {},
   "outputs": [],
   "source": [
    "import cv2\n",
    "import os \n",
    "import time \n",
    "import uuid"
   ]
  },
  {
   "cell_type": "code",
   "execution_count": 2,
   "id": "0fb2ea52",
   "metadata": {},
   "outputs": [],
   "source": [
    "labels = {\n",
    "    '1': 'hello',\n",
    "    '2': 'i_love_you',\n",
    "    '3': 'thank_you',\n",
    "    '4': 'yes',\n",
    "    '5': 'no'\n",
    "}"
   ]
  },
  {
   "cell_type": "code",
   "execution_count": 3,
   "id": "56a367c9",
   "metadata": {},
   "outputs": [],
   "source": [
    "save_dir = \"sign_images\"\n",
    "os.makedirs(save_dir, exist_ok=True)\n"
   ]
  },
  {
   "cell_type": "code",
   "execution_count": 4,
   "id": "b6804b29",
   "metadata": {},
   "outputs": [],
   "source": [
    "for label in labels.values():\n",
    "    os.makedirs(os.path.join(save_dir, label), exist_ok=True)"
   ]
  },
  {
   "cell_type": "code",
   "execution_count": null,
   "id": "8466e070",
   "metadata": {},
   "outputs": [],
   "source": [
    "\n",
    "# Webcam setup\n",
    "cap = cv2.VideoCapture(0)\n",
    "current_label = \"\"\n",
    "capturing = False\n",
    "capture_count = 0\n",
    "max_captures = 10\n",
    "capture_interval = 3  \n",
    "last_capture_time = None\n",
    "\n",
    "print(\"Press keys 1-5 to start capturing 10 spaced images (every 3 sec):\")\n",
    "print(\"1: Hello | 2: I love you | 3: Thank you | 4: Yes | 5: No\")\n",
    "print(\"Press 'q' to quit.\")\n",
    "\n",
    "while True:\n",
    "    ret, frame = cap.read()\n",
    "    if not ret:\n",
    "        break\n",
    "\n",
    "    # Show info text\n",
    "    if not capturing:\n",
    "        cv2.putText(frame, \"Press 1-5 to capture gesture images (10 images, 3s apart)\", (10, 30),\n",
    "                    cv2.FONT_HERSHEY_SIMPLEX, 0.6, (0, 255, 0), 2)\n",
    "    else:\n",
    "        elapsed = time.time() - last_capture_time\n",
    "        if elapsed >= capture_interval:\n",
    "            # Save image\n",
    "            timestamp = int(time.time() * 1000)\n",
    "            filename = f\"{current_label}_{timestamp}.jpg\"\n",
    "            filepath = os.path.join(save_dir, current_label, filename)\n",
    "            cv2.imwrite(filepath, frame)\n",
    "            capture_count += 1\n",
    "            print(f\"[{capture_count}/{max_captures}] Captured image for: {current_label}\")\n",
    "            last_capture_time = time.time()\n",
    "\n",
    "            if capture_count >= max_captures:\n",
    "                capturing = False\n",
    "                capture_count = 0\n",
    "                print(f\"✅ Done capturing 10 images for: {current_label}\")\n",
    "\n",
    "        else:\n",
    "            wait_text = f\"Waiting... Next in {int(capture_interval - elapsed)}s\"\n",
    "            cv2.putText(frame, wait_text, (10, 60),\n",
    "                        cv2.FONT_HERSHEY_SIMPLEX, 0.8, (0, 0, 255), 2)\n",
    "\n",
    "    cv2.imshow(\"Sign Image Collector\", frame)\n",
    "    key = cv2.waitKey(1) & 0xFF\n",
    "\n",
    "    if key == ord('q'):\n",
    "        break\n",
    "\n",
    "    elif chr(key) in labels and not capturing:\n",
    "        current_label = labels[chr(key)]\n",
    "        print(f\"⚠️ Get ready! Capturing 10 images for: {current_label}\")\n",
    "        capturing = True\n",
    "        capture_count = 0\n",
    "        last_capture_time = time.time() - capture_interval  # So it starts immediately\n",
    "\n",
    "cap.release()\n",
    "cv2.destroyAllWindows()"
   ]
  },
  {
   "cell_type": "code",
   "execution_count": 5,
   "id": "ec190abf",
   "metadata": {},
   "outputs": [],
   "source": [
    "LABELLING_PATH = os.path.join(save_dir, 'labelImg')\n"
   ]
  },
  {
   "cell_type": "code",
   "execution_count": 6,
   "id": "a11d879a",
   "metadata": {},
   "outputs": [
    {
     "data": {
      "text/plain": [
       "'sign_images\\\\labelImg'"
      ]
     },
     "execution_count": 6,
     "metadata": {},
     "output_type": "execute_result"
    }
   ],
   "source": [
    "LABELLING_PATH"
   ]
  },
  {
   "cell_type": "code",
   "execution_count": 7,
   "id": "4dbd41c9",
   "metadata": {},
   "outputs": [
    {
     "name": "stderr",
     "output_type": "stream",
     "text": [
      "Cloning into 'sign_images\\labelImg'...\n"
     ]
    }
   ],
   "source": [
    "!git clone https://github.com/tzutalin/labelImg.git {LABELLING_PATH}\n"
   ]
  },
  {
   "cell_type": "code",
   "execution_count": 7,
   "id": "0cda1e5e",
   "metadata": {},
   "outputs": [],
   "source": [
    "\n",
    "\n",
    "if os.name == 'posix':\n",
    "    # For Linux/macOS\n",
    "    !cd {LABELLING_PATH} && make qt5py3\n",
    "elif os.name == 'nt':\n",
    "    # For Windows, corrected command\n",
    "    !cd {LABELLING_PATH} && pyrcc5 -o libs/resources.py resources.qrc\n"
   ]
  },
  {
   "cell_type": "code",
   "execution_count": 8,
   "id": "6153110f",
   "metadata": {},
   "outputs": [
    {
     "name": "stdout",
     "output_type": "stream",
     "text": [
      "^C\n"
     ]
    }
   ],
   "source": [
    "!cd {LABELLING_PATH} && python labelImg.py"
   ]
  },
  {
   "cell_type": "code",
   "execution_count": null,
   "id": "cd7c44ee",
   "metadata": {},
   "outputs": [],
   "source": []
  }
 ],
 "metadata": {
  "kernelspec": {
   "display_name": "Python 3",
   "language": "python",
   "name": "python3"
  },
  "language_info": {
   "codemirror_mode": {
    "name": "ipython",
    "version": 3
   },
   "file_extension": ".py",
   "mimetype": "text/x-python",
   "name": "python",
   "nbconvert_exporter": "python",
   "pygments_lexer": "ipython3",
   "version": "3.11.2"
  }
 },
 "nbformat": 4,
 "nbformat_minor": 5
}
